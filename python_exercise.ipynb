{
 "cells": [
  {
   "cell_type": "code",
   "execution_count": 2,
   "metadata": {},
   "outputs": [],
   "source": [
    "#divedend = int(input(\"Eneter the divedend: \"))\n",
    "#divisor = int(input(\"Enter the divisor :\"))\n",
    "\n",
    "def divide(dividend,divisor):\n",
    "    if divedend < divisor:\n",
    "        print(\"{} is not divisible by {}\".format(divedend,divisor))\n",
    "    elif divisor == 0:\n",
    "        print(\"Number is not divisible by zero\")\n",
    "    elif dividend ==0:\n",
    "        print(\"The quotient is: 0\")\n",
    "                \n",
    "    sign = 0\n",
    "    if (dividend > 0 and divisor < 0) or (dividend < 0 and divisor >0):\n",
    "        sign = -1\n",
    "    else:\n",
    "        sign = 1\n",
    "\n",
    "    dividend = abs(dividend)\n",
    "    divisor = abs(divisor)\n",
    "    \n",
    "    quotient = 0\n",
    "    while(dividend >= divisor):\n",
    "        dividend-=divisor\n",
    "        quotient+=1\n",
    "    \n",
    "        #quetent*sign\n",
    "    return(quotient*sign)"
   ]
  },
  {
   "cell_type": "code",
   "execution_count": null,
   "metadata": {},
   "outputs": [],
   "source": []
  },
  {
   "cell_type": "code",
   "execution_count": 4,
   "metadata": {},
   "outputs": [
    {
     "ename": "NameError",
     "evalue": "name 'divedend' is not defined",
     "output_type": "error",
     "traceback": [
      "\u001b[0;31m---------------------------------------------------------------------------\u001b[0m",
      "\u001b[0;31mNameError\u001b[0m                                 Traceback (most recent call last)",
      "\u001b[0;32m<ipython-input-4-356f0e0da696>\u001b[0m in \u001b[0;36m<module>\u001b[0;34m\u001b[0m\n\u001b[0;32m----> 1\u001b[0;31m \u001b[0mdivide\u001b[0m\u001b[0;34m(\u001b[0m\u001b[0;36m2\u001b[0m\u001b[0;34m,\u001b[0m\u001b[0;36m3\u001b[0m\u001b[0;34m)\u001b[0m\u001b[0;34m\u001b[0m\u001b[0;34m\u001b[0m\u001b[0m\n\u001b[0m",
      "\u001b[0;32m<ipython-input-2-7a8d1e6266c1>\u001b[0m in \u001b[0;36mdivide\u001b[0;34m(dividend, divisor)\u001b[0m\n\u001b[1;32m      3\u001b[0m \u001b[0;34m\u001b[0m\u001b[0m\n\u001b[1;32m      4\u001b[0m \u001b[0;32mdef\u001b[0m \u001b[0mdivide\u001b[0m\u001b[0;34m(\u001b[0m\u001b[0mdividend\u001b[0m\u001b[0;34m,\u001b[0m\u001b[0mdivisor\u001b[0m\u001b[0;34m)\u001b[0m\u001b[0;34m:\u001b[0m\u001b[0;34m\u001b[0m\u001b[0;34m\u001b[0m\u001b[0m\n\u001b[0;32m----> 5\u001b[0;31m     \u001b[0;32mif\u001b[0m \u001b[0mdivedend\u001b[0m \u001b[0;34m<\u001b[0m \u001b[0mdivisor\u001b[0m\u001b[0;34m:\u001b[0m\u001b[0;34m\u001b[0m\u001b[0;34m\u001b[0m\u001b[0m\n\u001b[0m\u001b[1;32m      6\u001b[0m         \u001b[0mprint\u001b[0m\u001b[0;34m(\u001b[0m\u001b[0;34m\"{} is not divisible by {}\"\u001b[0m\u001b[0;34m.\u001b[0m\u001b[0mformat\u001b[0m\u001b[0;34m(\u001b[0m\u001b[0mdivedend\u001b[0m\u001b[0;34m,\u001b[0m\u001b[0mdivisor\u001b[0m\u001b[0;34m)\u001b[0m\u001b[0;34m)\u001b[0m\u001b[0;34m\u001b[0m\u001b[0;34m\u001b[0m\u001b[0m\n\u001b[1;32m      7\u001b[0m     \u001b[0;32melif\u001b[0m \u001b[0mdivisor\u001b[0m \u001b[0;34m==\u001b[0m \u001b[0;36m0\u001b[0m\u001b[0;34m:\u001b[0m\u001b[0;34m\u001b[0m\u001b[0;34m\u001b[0m\u001b[0m\n",
      "\u001b[0;31mNameError\u001b[0m: name 'divedend' is not defined"
     ]
    }
   ],
   "source": [
    "divide(2,3)"
   ]
  },
  {
   "cell_type": "code",
   "execution_count": 6,
   "metadata": {},
   "outputs": [],
   "source": [
    "matrix = [[1,2],[3,4]]"
   ]
  },
  {
   "cell_type": "code",
   "execution_count": 10,
   "metadata": {},
   "outputs": [
    {
     "name": "stdout",
     "output_type": "stream",
     "text": [
      "[[3, 1], [4, 2]]\n"
     ]
    }
   ],
   "source": [
    "rotated = [list(reversed(col)) for col in zip(*matrix)]\n",
    "\n",
    "print(rotated)"
   ]
  },
  {
   "cell_type": "code",
   "execution_count": 8,
   "metadata": {},
   "outputs": [
    {
     "name": "stdout",
     "output_type": "stream",
     "text": [
      "[[3, 4], [1, 2]]\n",
      "[<zip object at 0x10c7a3ac8>]\n"
     ]
    }
   ],
   "source": [
    "A = list(reversed(matrix))\n",
    "B = [col for col in [zip(*A)]]\n",
    "print(A)\n",
    "print(B)"
   ]
  },
  {
   "cell_type": "code",
   "execution_count": 24,
   "metadata": {},
   "outputs": [
    {
     "name": "stdout",
     "output_type": "stream",
     "text": [
      "[1, 2, 4, 6, 9]\n",
      "[1, 2, 4, 6]\n"
     ]
    }
   ],
   "source": [
    "import numpy as np\n",
    "m = [1,5,2,4,6,4,1,1,4,2]\n",
    "x = []\n",
    "for i in range(len(m)):\n",
    "    if m[i] in x:\n",
    "        pass\n",
    "    else:\n",
    "        x.append(m[i])\n",
    "print(sorted(x))\n",
    "x.pop(1)\n",
    "print(x)"
   ]
  },
  {
   "cell_type": "code",
   "execution_count": 75,
   "metadata": {},
   "outputs": [
    {
     "name": "stdout",
     "output_type": "stream",
     "text": [
      "12\n",
      "12\n"
     ]
    },
    {
     "ename": "ValueError",
     "evalue": "not enough values to unpack (expected 2, got 1)",
     "output_type": "error",
     "traceback": [
      "\u001b[0;31m---------------------------------------------------------------------------\u001b[0m",
      "\u001b[0;31mValueError\u001b[0m                                Traceback (most recent call last)",
      "\u001b[0;32m<ipython-input-75-a33723e78a5e>\u001b[0m in \u001b[0;36m<module>\u001b[0;34m\u001b[0m\n\u001b[1;32m      1\u001b[0m \u001b[0mn\u001b[0m \u001b[0;34m=\u001b[0m \u001b[0mint\u001b[0m\u001b[0;34m(\u001b[0m\u001b[0minput\u001b[0m\u001b[0;34m(\u001b[0m\u001b[0;34m)\u001b[0m\u001b[0;34m)\u001b[0m\u001b[0;34m\u001b[0m\u001b[0;34m\u001b[0m\u001b[0m\n\u001b[1;32m      2\u001b[0m \u001b[0;32mfor\u001b[0m \u001b[0mi\u001b[0m \u001b[0;32min\u001b[0m \u001b[0mrange\u001b[0m\u001b[0;34m(\u001b[0m\u001b[0mn\u001b[0m\u001b[0;34m)\u001b[0m\u001b[0;34m:\u001b[0m\u001b[0;34m\u001b[0m\u001b[0;34m\u001b[0m\u001b[0m\n\u001b[0;32m----> 3\u001b[0;31m     \u001b[0ma\u001b[0m\u001b[0;34m,\u001b[0m \u001b[0mb\u001b[0m \u001b[0;34m=\u001b[0m \u001b[0minput\u001b[0m\u001b[0;34m(\u001b[0m\u001b[0;34m)\u001b[0m\u001b[0;34m.\u001b[0m\u001b[0mstrip\u001b[0m\u001b[0;34m(\u001b[0m\u001b[0;34m)\u001b[0m\u001b[0;34m.\u001b[0m\u001b[0msplit\u001b[0m\u001b[0;34m(\u001b[0m\u001b[0;34m' '\u001b[0m\u001b[0;34m)\u001b[0m\u001b[0;34m\u001b[0m\u001b[0;34m\u001b[0m\u001b[0m\n\u001b[0m\u001b[1;32m      4\u001b[0m     \u001b[0;31m#print(a)\u001b[0m\u001b[0;34m\u001b[0m\u001b[0;34m\u001b[0m\u001b[0;34m\u001b[0m\u001b[0m\n\u001b[1;32m      5\u001b[0m     \u001b[0mprint\u001b[0m \u001b[0;34m(\u001b[0m\u001b[0mint\u001b[0m\u001b[0;34m(\u001b[0m\u001b[0ma\u001b[0m\u001b[0;34m)\u001b[0m \u001b[0;34m+\u001b[0m \u001b[0mint\u001b[0m\u001b[0;34m(\u001b[0m\u001b[0mb\u001b[0m\u001b[0;34m)\u001b[0m\u001b[0;34m)\u001b[0m\u001b[0;34m\u001b[0m\u001b[0;34m\u001b[0m\u001b[0m\n",
      "\u001b[0;31mValueError\u001b[0m: not enough values to unpack (expected 2, got 1)"
     ]
    }
   ],
   "source": [
    "n = int(input())\n",
    "for i in range(n):\n",
    "    a, b = input().strip().split(' ')\n",
    "    #print(a)\n",
    "    print (int(a) + int(b))"
   ]
  },
  {
   "cell_type": "code",
   "execution_count": 77,
   "metadata": {},
   "outputs": [
    {
     "name": "stdout",
     "output_type": "stream",
     "text": [
      "[1, 1, 1, 2, 2, 4, 4, 4, 5, 6]\n"
     ]
    }
   ],
   "source": [
    "m = [1,5,2,4,6,4,1,1,4,2]\n",
    "m.sort()\n",
    "print(m)"
   ]
  },
  {
   "cell_type": "code",
   "execution_count": 84,
   "metadata": {},
   "outputs": [
    {
     "name": "stdout",
     "output_type": "stream",
     "text": [
      "3\n"
     ]
    }
   ],
   "source": [
    "def sockMerchant(n, ar):\n",
    "    ar.sort()\n",
    "    count = 0\n",
    "    i = 0\n",
    "    while i < n-1:\n",
    "        if ar[i] == ar[i+1]:\n",
    "            count = count + 1\n",
    "            i+=2\n",
    "        else:\n",
    "            i+=1\n",
    "    return count\n",
    "n = 9\n",
    "ar = [10, 20, 20, 10, 10, 30, 50, 10, 20]\n",
    "result = sockMerchant(n, ar)\n",
    "print(result)"
   ]
  },
  {
   "cell_type": "code",
   "execution_count": 103,
   "metadata": {},
   "outputs": [
    {
     "name": "stdout",
     "output_type": "stream",
     "text": [
      "2\n",
      "3\n",
      "4\n",
      "6\n",
      "7\n",
      "5\n"
     ]
    }
   ],
   "source": [
    "def sockMerchant(n, ar):\n",
    "    ar.sort()\n",
    "    count = 0\n",
    "    ar.append('#')\n",
    "    i = 0\n",
    "    for i in range(n-1):\n",
    "        if ar[i] == ar[i+1]:\n",
    "            count = count + 1\n",
    "            i+=2\n",
    "            print(i)\n",
    "        else:\n",
    "            i+=1\n",
    "            #print(ar[i])\n",
    "    return count\n",
    "n = 9\n",
    "ar = [10, 20, 20, 10, 10, 30, 50, 10, 20]\n",
    "result = sockMerchant(n, ar)\n",
    "print(result)"
   ]
  },
  {
   "cell_type": "code",
   "execution_count": 98,
   "metadata": {},
   "outputs": [],
   "source": [
    "ar = [10, 20, 20, 10, 10, 30, 50, 10, 20]\n",
    "ar.sort()\n",
    "#print(ar)\n",
    "ar.append('#')\n",
    "for i in range(n-1):\n",
    "    if ar[i] == ar[i+1]:\n",
    "        count = count + 1\n",
    "        #print(i)\n",
    "        i+=2 \n",
    "    else:\n",
    "        i+=1\n",
    "            #print(ar[i])"
   ]
  },
  {
   "cell_type": "code",
   "execution_count": 102,
   "metadata": {},
   "outputs": [
    {
     "name": "stdout",
     "output_type": "stream",
     "text": [
      "0\n",
      "2\n",
      "4\n"
     ]
    }
   ],
   "source": [
    "for i in range(0,5,2):\n",
    "    print(i)"
   ]
  },
  {
   "cell_type": "code",
   "execution_count": 17,
   "metadata": {},
   "outputs": [
    {
     "name": "stdout",
     "output_type": "stream",
     "text": [
      "5\n"
     ]
    }
   ],
   "source": [
    "cl = [0, 0, 1, 0,0,1,0,0]\n",
    "#steps.append('#')\n",
    "m = len(cl)-1\n",
    "count = 0\n",
    "i = 0\n",
    "while i < m:\n",
    "    if (i+2 <= m) and (cl[i+2] ==0):\n",
    "        i+=2\n",
    "    elif (cl[i + 1] == 0): \n",
    "        i+=1\n",
    "    count+=1\n",
    "print(count)"
   ]
  },
  {
   "cell_type": "code",
   "execution_count": 7,
   "metadata": {},
   "outputs": [
    {
     "name": "stdout",
     "output_type": "stream",
     "text": [
      "Enter a word: ceaaev\n",
      "v\n",
      "ceaaev is not a palindrome\n"
     ]
    }
   ],
   "source": [
    "class Stack:\n",
    "    def __init__(self):\n",
    "        self.items=[]\n",
    "\n",
    "    def isEmpty(self):\n",
    "        return self.items==[]\n",
    "\n",
    "    def push(self,data):\n",
    "        self.items.append(data)\n",
    "\n",
    "    def size(self):\n",
    "        return len(Self.items)\n",
    "\n",
    "    def show(self):\n",
    "        print (self.items)\n",
    "\n",
    "    def peek(self):\n",
    "        return self.items[len(self.items)-1]\n",
    "\n",
    "    def pop(self):\n",
    "        assert not self.isEmpty()\n",
    "        return self.items.pop()\n",
    "\n",
    "word=input(\"Enter a word: \")\n",
    "s=Stack();\n",
    "\n",
    "for i in word:\n",
    " s.push(i)\n",
    "print(s.pop())\n",
    "list1 = \"\"\n",
    "while not s.isEmpty():\n",
    " list1 += s.pop()\n",
    "\n",
    "if(list1 == word):\n",
    "    print(word,\"is a palindrome\");\n",
    "else:\n",
    "    print(word,\"is not a palindrome\");"
   ]
  },
  {
   "cell_type": "code",
   "execution_count": 13,
   "metadata": {},
   "outputs": [
    {
     "name": "stdout",
     "output_type": "stream",
     "text": [
      "1100\n"
     ]
    }
   ],
   "source": [
    "def decimaltobinary(number):\n",
    "    w = Stack()\n",
    "    while number > 0:\n",
    "        rem = number%2\n",
    "        w.push(rem)\n",
    "        number = number // 2\n",
    "        \n",
    "    string2 = \"\"\n",
    "    while not w.isEmpty():\n",
    "        string2 += str(w.pop())\n",
    "    return string2\n",
    "print(decimaltobinary(12))"
   ]
  },
  {
   "cell_type": "code",
   "execution_count": 17,
   "metadata": {},
   "outputs": [
    {
     "name": "stdout",
     "output_type": "stream",
     "text": [
      "C\n"
     ]
    }
   ],
   "source": [
    "def decimaltobase(number,base):\n",
    "    digits = '0123456789ABCDEF'\n",
    "    w = Stack()\n",
    "    while number > 0:\n",
    "        rem = number % base\n",
    "        w.push(rem)\n",
    "        number = number // base\n",
    "        \n",
    "    string1 = \"\"\n",
    "    while not w.isEmpty():\n",
    "        string1 += digits[w.pop()]\n",
    "    return string1\n",
    "print(decimaltobase(12,16))"
   ]
  },
  {
   "cell_type": "code",
   "execution_count": 18,
   "metadata": {},
   "outputs": [],
   "source": [
    "class Queue:\n",
    "    def __init__(self):\n",
    "        self.items = []\n",
    "\n",
    "    def isEmpty(self):\n",
    "        return self.items == []\n",
    "\n",
    "    def enqueue(self, item):\n",
    "        self.items.insert(0,item)\n",
    "\n",
    "    def dequeue(self):\n",
    "        return self.items.pop()\n",
    "\n",
    "    def size(self):\n",
    "        return len(self.items)"
   ]
  },
  {
   "cell_type": "code",
   "execution_count": 27,
   "metadata": {},
   "outputs": [
    {
     "data": {
      "text/plain": [
       "'David'"
      ]
     },
     "execution_count": 27,
     "metadata": {},
     "output_type": "execute_result"
    }
   ],
   "source": [
    "def hotpotato(namelist, num):\n",
    "    myque = Queue()\n",
    "    \n",
    "    for name in namelist:\n",
    "        myque.enqueue(name)\n",
    "        \n",
    "    while myque.size() > 1:\n",
    "        for i in range(num):\n",
    "            myque.enqueue(myque.dequeue())\n",
    "        \n",
    "        myque.dequeue()\n",
    "        \n",
    "    return myque.dequeue()\n",
    "\n",
    "hotpotato([\"Tom\",\"David\",\"Paul\",\"Tim\",\"Karen\"],8)"
   ]
  },
  {
   "cell_type": "code",
   "execution_count": 28,
   "metadata": {},
   "outputs": [],
   "source": [
    "class Deque:\n",
    "    def __init__(self):\n",
    "        self.items = []\n",
    "\n",
    "    def isEmpty(self):\n",
    "        return self.items == []\n",
    "\n",
    "    def addFront(self, item):\n",
    "        self.items.append(item)\n",
    "\n",
    "    def addRear(self, item):\n",
    "        self.items.insert(0,item)\n",
    "\n",
    "    def removeFront(self):\n",
    "        return self.items.pop()\n",
    "\n",
    "    def removeRear(self):\n",
    "        return self.items.pop(0)\n",
    "\n",
    "    def size(self):\n",
    "        return len(self.items)"
   ]
  },
  {
   "cell_type": "code",
   "execution_count": 34,
   "metadata": {},
   "outputs": [
    {
     "name": "stdout",
     "output_type": "stream",
     "text": [
      "robber\n"
     ]
    }
   ],
   "source": [
    "def palindrome(string):\n",
    "    n = Deque()\n",
    "    \n",
    "    for ch in string:\n",
    "        n.addRear(ch)\n",
    "    \n",
    "    str1 = \"\"\n",
    "    while not n.isEmpty():\n",
    "        str1 += n.removeFront()\n",
    "    \n",
    "    return str1\n",
    "print(palindrome('robber'))"
   ]
  },
  {
   "cell_type": "code",
   "execution_count": null,
   "metadata": {},
   "outputs": [],
   "source": []
  },
  {
   "cell_type": "code",
   "execution_count": 82,
   "metadata": {},
   "outputs": [
    {
     "name": "stdout",
     "output_type": "stream",
     "text": [
      "[1, 9, 16, 36, 81]\n"
     ]
    }
   ],
   "source": [
    "list_lambda1 = [1,3,4,6,9]\n",
    "result1 = [a*a for a in list_lambda1]\n",
    "\n",
    "print(result1)\n",
    "\n",
    "result2 = filter(lambda a: a<5, list_lambda1) #[a for a in list_lambda1 if a < 4]\n",
    "\n",
    "#print(result2)\n"
   ]
  },
  {
   "cell_type": "code",
   "execution_count": 69,
   "metadata": {},
   "outputs": [
    {
     "name": "stdout",
     "output_type": "stream",
     "text": [
      "648\n"
     ]
    }
   ],
   "source": [
    "from functools import reduce\n",
    "\n",
    "#reduce(lambda iterate over: operation buket) \n",
    "#result = reduce(lambda a,b: a*b, numbers)\n",
    "\n",
    "result = reduce(lambda a,b: a*b, list_lambda1)\n",
    "\n",
    "print(result)"
   ]
  },
  {
   "cell_type": "code",
   "execution_count": 71,
   "metadata": {},
   "outputs": [
    {
     "name": "stdout",
     "output_type": "stream",
     "text": [
      "a 1\n",
      "s 2\n",
      "g 3\n",
      "k 4\n",
      "d 5\n"
     ]
    }
   ],
   "source": [
    "list_zip1 = ['a','s','g','k','d','l']\n",
    "list_zip2 = [1,2,3,4,5]\n",
    "\n",
    "for i,j in zip(list_zip1,list_zip2):\n",
    "    print(i,j)"
   ]
  },
  {
   "cell_type": "code",
   "execution_count": 75,
   "metadata": {},
   "outputs": [
    {
     "name": "stdout",
     "output_type": "stream",
     "text": [
      "9183\n"
     ]
    }
   ],
   "source": [
    "#Distinct powers - SOLUTION I\n",
    "\n",
    "#Problem 29\n",
    "list_power = []\n",
    "for a in range(2,101):\n",
    "    for b in range(2,101):\n",
    "        p = a**b\n",
    "        if p in list_power:\n",
    "            pass\n",
    "        else:\n",
    "            list_power.append(p)\n",
    "\n",
    "print(len(list_power))"
   ]
  },
  {
   "cell_type": "code",
   "execution_count": 93,
   "metadata": {},
   "outputs": [
    {
     "name": "stdout",
     "output_type": "stream",
     "text": [
      "9183\n"
     ]
    }
   ],
   "source": [
    "#Distinct powers - SOLUTION II - \n",
    "\n",
    "#Problem 29\n",
    "\n",
    "list_power1 = []\n",
    "[list_power1.append(x**y) for x in range(2,101) for y in range(2,101) if (x**y) not in list_power1]\n",
    "print(len(list_power1))"
   ]
  },
  {
   "cell_type": "code",
   "execution_count": 115,
   "metadata": {},
   "outputs": [
    {
     "name": "stdout",
     "output_type": "stream",
     "text": [
      "1366\n"
     ]
    }
   ],
   "source": [
    "#Power digit sum\n",
    "#Problem 16\n",
    "\n",
    "sum1 = 0\n",
    "for i in list(str(2**1000)):\n",
    "    sum1 += int(i)\n",
    "print(sum1)"
   ]
  },
  {
   "cell_type": "code",
   "execution_count": 159,
   "metadata": {},
   "outputs": [
    {
     "name": "stdout",
     "output_type": "stream",
     "text": [
      "648\n"
     ]
    }
   ],
   "source": [
    "#Factorial digit sum\n",
    "#Problem 20\n",
    "\n",
    "def factorial(n):\n",
    "    if n == 1:\n",
    "        return 1\n",
    "    else:\n",
    "        return n*factorial(n-1)\n",
    "\n",
    "sum_digits = 0\n",
    "for i in list(str(factorial(100))):\n",
    "    sum_digits += int(i)\n",
    "\n",
    "print(sum_digits)"
   ]
  },
  {
   "cell_type": "code",
   "execution_count": 158,
   "metadata": {},
   "outputs": [
    {
     "name": "stdout",
     "output_type": "stream",
     "text": [
      "648\n"
     ]
    }
   ],
   "source": [
    "#Factorial digit sum - Solution II - List comprhension\n",
    "#Problem 20\n",
    "\n",
    "sum_digits1 = 0\n",
    "digit_list = ([int(i) for i in list(str(factorial(100)))])\n",
    "for j in digit_list:\n",
    "    sum_digits1+=j\n",
    "print(sum_digits1)"
   ]
  },
  {
   "cell_type": "code",
   "execution_count": 182,
   "metadata": {},
   "outputs": [
    {
     "data": {
      "text/plain": [
       "('906609', [(993, 913), (913, 993)])"
      ]
     },
     "execution_count": 182,
     "metadata": {},
     "output_type": "execute_result"
    }
   ],
   "source": [
    "#Largest palindrome product\n",
    "\n",
    "#Problem 4\n",
    "\n",
    "from collections import defaultdict\n",
    "\n",
    "palnum_dict = defaultdict(list)\n",
    "\n",
    "for i in range(100,1000):\n",
    "    for j in range(100,1000):\n",
    "        num = str(j*i)\n",
    "        if (num[::-1] == num) :\n",
    "            palnum_dict[num].append((j,i))\n",
    "\n",
    "sorted(palnum_dict.items(), key=lambda x: int(x[0]), reverse = True)[0]"
   ]
  },
  {
   "cell_type": "code",
   "execution_count": 194,
   "metadata": {},
   "outputs": [
    {
     "name": "stdout",
     "output_type": "stream",
     "text": [
      "21124\n"
     ]
    }
   ],
   "source": [
    "#Number letter counts\n",
    "\n",
    "#Problem 17\n",
    "\n",
    "from num2words import num2words\n",
    "\n",
    "sum_len = 0\n",
    "for l in range(1,1001):\n",
    "    sum_len+=len(num2words(l).replace(\" \",\"\").replace(\"-\",\"\"))\n",
    "print(sum_len)"
   ]
  },
  {
   "cell_type": "code",
   "execution_count": 232,
   "metadata": {},
   "outputs": [
    {
     "name": "stdout",
     "output_type": "stream",
     "text": [
      "10585\n"
     ]
    }
   ],
   "source": [
    "#Consecutive positive divisors\n",
    "\n",
    "#Problem 179\n",
    "\n",
    "from math import sqrt\n",
    "\n",
    "def numdivisor(num):\n",
    "    countdivisor = 2\n",
    "    i = 2\n",
    "    while i <= sqrt(num):\n",
    "        if (num%i == 0):\n",
    "            if (i!=math.sqrt(num)):\n",
    "                countdivisor+=2\n",
    "            else:\n",
    "                countdivisor+=1\n",
    "        i+=1\n",
    "    return countdivisor\n",
    "\n",
    "formernumdiv = 2\n",
    "sumall = 0\n",
    "for i in range(3,100000):\n",
    "    numdiv = numdivisor(i)\n",
    "    if numdiv == formernumdiv:\n",
    "        sumall+=1\n",
    "    formernumdiv = numdiv\n",
    "print(sumall)"
   ]
  },
  {
   "cell_type": "code",
   "execution_count": 238,
   "metadata": {},
   "outputs": [
    {
     "name": "stdout",
     "output_type": "stream",
     "text": [
      "9183\n"
     ]
    }
   ],
   "source": [
    "#Distinct powers\n",
    "\n",
    "#Problem 29\n",
    "\n",
    "distpower_list = []\n",
    "for m in range(2,101):\n",
    "    for n in range(2,101):\n",
    "        if m**n in distpower_list:\n",
    "            pass\n",
    "        else:\n",
    "            distpower_list.append(m**n)\n",
    "print(len(distpower_list))"
   ]
  },
  {
   "cell_type": "code",
   "execution_count": 243,
   "metadata": {},
   "outputs": [
    {
     "name": "stdout",
     "output_type": "stream",
     "text": [
      "0076480119\n"
     ]
    }
   ],
   "source": [
    "#Self powers\n",
    "\n",
    "#Problem 48\n",
    "\n",
    "sum_pow = 0\n",
    "for j in range(1,1001):\n",
    "    sum_pow+=j**j\n",
    "    \n",
    "print(str(sum_pow)[:-11:-1])\n",
    "    "
   ]
  },
  {
   "cell_type": "code",
   "execution_count": 253,
   "metadata": {},
   "outputs": [
    {
     "name": "stdout",
     "output_type": "stream",
     "text": [
      "Number of square digits ending in '89' are:  15309\n"
     ]
    }
   ],
   "source": [
    "#Square digit chains\n",
    "\n",
    "#Problem 92\n",
    "\n",
    "def sqrdigit(m):\n",
    "    str_m = str(m)\n",
    "    m_sqr_sum = 0\n",
    "    for l in range(len(str_m)):\n",
    "        m_sqr_sum+=int(str_m[l])**2\n",
    "    return m_sqr_sum\n",
    "#\n",
    "count_89 = 0\n",
    "for i in range(2,10**7):\n",
    "    if sqrdigit(i)==89:\n",
    "        count_89+=1\n",
    "    else:\n",
    "        continue\n",
    "print(\"Number of square digits ending in '89' are: \", + count_89)"
   ]
  }
 ],
 "metadata": {
  "kernelspec": {
   "display_name": "Python 3",
   "language": "python",
   "name": "python3"
  },
  "language_info": {
   "codemirror_mode": {
    "name": "ipython",
    "version": 3
   },
   "file_extension": ".py",
   "mimetype": "text/x-python",
   "name": "python",
   "nbconvert_exporter": "python",
   "pygments_lexer": "ipython3",
   "version": "3.7.6"
  }
 },
 "nbformat": 4,
 "nbformat_minor": 2
}
